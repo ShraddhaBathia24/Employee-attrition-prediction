{
 "cells": [
  {
   "cell_type": "markdown",
   "id": "4b9457a0",
   "metadata": {},
   "source": [
    "#!/usr/bin/env python\n",
    "# coding: utf-8"
   ]
  },
  {
   "cell_type": "markdown",
   "id": "d4129810",
   "metadata": {},
   "source": [
    "# # Attrition Dataset"
   ]
  },
  {
   "cell_type": "markdown",
   "id": "f664d15a",
   "metadata": {},
   "source": [
    "# In[77]:"
   ]
  },
  {
   "cell_type": "code",
   "execution_count": null,
   "id": "bf6b715c",
   "metadata": {},
   "outputs": [],
   "source": [
    "import pandas as pd\n",
    "import numpy as np\n",
    "import matplotlib.pyplot as plt\n",
    "import seaborn as sns\n",
    "import tabulate as tb"
   ]
  },
  {
   "cell_type": "markdown",
   "id": "1662bb9d",
   "metadata": {},
   "source": [
    "# In[78]:"
   ]
  },
  {
   "cell_type": "code",
   "execution_count": null,
   "id": "399ce090",
   "metadata": {},
   "outputs": [],
   "source": [
    "att = pd.read_csv(r'G:\\Data Scientist_ Recruitment_April 2023\\Employee Attrition.csv')"
   ]
  },
  {
   "cell_type": "markdown",
   "id": "2c405f8f",
   "metadata": {},
   "source": [
    "# In[79]:"
   ]
  },
  {
   "cell_type": "code",
   "execution_count": null,
   "id": "3fc90b24",
   "metadata": {},
   "outputs": [],
   "source": [
    "att.head()   #Checking how data looks"
   ]
  },
  {
   "cell_type": "markdown",
   "id": "88c8502e",
   "metadata": {},
   "source": [
    "# In[80]:"
   ]
  },
  {
   "cell_type": "code",
   "execution_count": null,
   "id": "ed9e4f91",
   "metadata": {},
   "outputs": [],
   "source": [
    "att.isnull().sum()[att.isnull().sum()>0]        #Checking Null Values"
   ]
  },
  {
   "cell_type": "markdown",
   "id": "97d72e7e",
   "metadata": {},
   "source": [
    "# In[81]:"
   ]
  },
  {
   "cell_type": "code",
   "execution_count": null,
   "id": "e6652f1b",
   "metadata": {},
   "outputs": [],
   "source": [
    "att.columns[att.dtypes == 'object']"
   ]
  },
  {
   "cell_type": "markdown",
   "id": "9f5062ab",
   "metadata": {},
   "source": [
    "# In[82]:"
   ]
  },
  {
   "cell_type": "code",
   "execution_count": null,
   "id": "7f3239a6",
   "metadata": {},
   "outputs": [],
   "source": [
    "att.shape"
   ]
  },
  {
   "cell_type": "markdown",
   "id": "2905b03a",
   "metadata": {},
   "source": [
    "# In[83]:"
   ]
  },
  {
   "cell_type": "code",
   "execution_count": null,
   "id": "d9cfc10e",
   "metadata": {},
   "outputs": [],
   "source": [
    "att.Over18.value_counts()"
   ]
  },
  {
   "cell_type": "markdown",
   "id": "d575cbc3",
   "metadata": {},
   "source": [
    "# In[84]:"
   ]
  },
  {
   "cell_type": "code",
   "execution_count": null,
   "id": "b1ff5d61",
   "metadata": {},
   "outputs": [],
   "source": [
    "att.EmployeeCount.value_counts()"
   ]
  },
  {
   "cell_type": "markdown",
   "id": "dbc8d49e",
   "metadata": {},
   "source": [
    "# In[85]:"
   ]
  },
  {
   "cell_type": "code",
   "execution_count": null,
   "id": "49a8451c",
   "metadata": {},
   "outputs": [],
   "source": [
    "att.StandardHours.value_counts()"
   ]
  },
  {
   "cell_type": "markdown",
   "id": "21d2d271",
   "metadata": {},
   "source": [
    "# # Data Cleaning"
   ]
  },
  {
   "cell_type": "markdown",
   "id": "a82cc65c",
   "metadata": {},
   "source": [
    "# In[86]:"
   ]
  },
  {
   "cell_type": "code",
   "execution_count": null,
   "id": "d62ee8f9",
   "metadata": {},
   "outputs": [],
   "source": [
    "att = att.drop(['Over18','EmployeeCount','StandardHours','EmployeeNumber'],axis =1)      #same value in all records"
   ]
  },
  {
   "cell_type": "markdown",
   "id": "aa6e8d6c",
   "metadata": {},
   "source": [
    "# In[87]:"
   ]
  },
  {
   "cell_type": "code",
   "execution_count": null,
   "id": "c5c1401d",
   "metadata": {},
   "outputs": [],
   "source": [
    "att.Attrition = att.Attrition.replace({'Yes':1,'No':0})"
   ]
  },
  {
   "cell_type": "markdown",
   "id": "bbba7b85",
   "metadata": {},
   "source": [
    "# In[88]:"
   ]
  },
  {
   "cell_type": "code",
   "execution_count": null,
   "id": "c8c9c718",
   "metadata": {},
   "outputs": [],
   "source": [
    "from sklearn.preprocessing import LabelEncoder\n",
    "le = LabelEncoder()"
   ]
  },
  {
   "cell_type": "markdown",
   "id": "1d51f31a",
   "metadata": {},
   "source": [
    "# In[89]:"
   ]
  },
  {
   "cell_type": "code",
   "execution_count": null,
   "id": "d46fc542",
   "metadata": {},
   "outputs": [],
   "source": [
    "att[att.select_dtypes(include = 'object').columns] = att[att.select_dtypes(include = 'object').columns].apply(le.fit_transform)"
   ]
  },
  {
   "cell_type": "markdown",
   "id": "eec65bce",
   "metadata": {},
   "source": [
    "# In[90]:"
   ]
  },
  {
   "cell_type": "code",
   "execution_count": null,
   "id": "7b5421b4",
   "metadata": {},
   "outputs": [],
   "source": [
    "att.columns[att.dtypes == 'object']"
   ]
  },
  {
   "cell_type": "markdown",
   "id": "ca1bc8ad",
   "metadata": {},
   "source": [
    "# # Sampling"
   ]
  },
  {
   "cell_type": "markdown",
   "id": "39465af2",
   "metadata": {},
   "source": [
    "# In[91]:"
   ]
  },
  {
   "cell_type": "code",
   "execution_count": null,
   "id": "15c7e7e2",
   "metadata": {},
   "outputs": [],
   "source": [
    "from sklearn.model_selection import train_test_split"
   ]
  },
  {
   "cell_type": "markdown",
   "id": "33790816",
   "metadata": {},
   "source": [
    "# In[92]:"
   ]
  },
  {
   "cell_type": "code",
   "execution_count": null,
   "id": "376b3dca",
   "metadata": {},
   "outputs": [],
   "source": [
    "att_train,att_test = train_test_split(att,test_size=.3)   #split it into train and test in 70:30 ratio"
   ]
  },
  {
   "cell_type": "markdown",
   "id": "eb57ae59",
   "metadata": {},
   "source": [
    "# In[93]:"
   ]
  },
  {
   "cell_type": "code",
   "execution_count": null,
   "id": "9f14b01a",
   "metadata": {},
   "outputs": [],
   "source": [
    "att_train_x = att_train.drop(['Attrition'],axis =1)\n",
    "att_train_y = att_train['Attrition']\n",
    "att_test_x = att_test.drop(['Attrition'],axis =1)\n",
    "att_test_y = att_test['Attrition']"
   ]
  },
  {
   "cell_type": "markdown",
   "id": "60f17569",
   "metadata": {},
   "source": [
    "# In[94]:"
   ]
  },
  {
   "cell_type": "code",
   "execution_count": null,
   "id": "695adf85",
   "metadata": {},
   "outputs": [],
   "source": [
    "print(att_train_x.shape,att_train_y.shape,att_test_x.shape)"
   ]
  },
  {
   "cell_type": "markdown",
   "id": "29eca13f",
   "metadata": {},
   "source": [
    "# # Model Building : Decision Tree"
   ]
  },
  {
   "cell_type": "markdown",
   "id": "b7918fe6",
   "metadata": {},
   "source": [
    "# In[95]:"
   ]
  },
  {
   "cell_type": "code",
   "execution_count": null,
   "id": "95e4f803",
   "metadata": {},
   "outputs": [],
   "source": [
    "from sklearn.tree import DecisionTreeClassifier\n",
    "dt = DecisionTreeClassifier(class_weight='balanced', criterion='entropy',max_depth=3)"
   ]
  },
  {
   "cell_type": "markdown",
   "id": "7e6bad80",
   "metadata": {},
   "source": [
    "# In[96]:"
   ]
  },
  {
   "cell_type": "code",
   "execution_count": null,
   "id": "35d8f60c",
   "metadata": {},
   "outputs": [],
   "source": [
    "dt.fit(att_train_x,att_train_y)"
   ]
  },
  {
   "cell_type": "markdown",
   "id": "4ab85e36",
   "metadata": {},
   "source": [
    "# In[97]:"
   ]
  },
  {
   "cell_type": "code",
   "execution_count": null,
   "id": "5210e84e",
   "metadata": {},
   "outputs": [],
   "source": [
    "pred = dt.predict(att_test_x)"
   ]
  },
  {
   "cell_type": "markdown",
   "id": "98d630fd",
   "metadata": {},
   "source": [
    "# In[98]:"
   ]
  },
  {
   "cell_type": "code",
   "execution_count": null,
   "id": "f28ef52e",
   "metadata": {},
   "outputs": [],
   "source": [
    "from sklearn.metrics import confusion_matrix,accuracy_score,recall_score,precision_score"
   ]
  },
  {
   "cell_type": "markdown",
   "id": "d01a1c38",
   "metadata": {},
   "source": [
    "# In[99]:"
   ]
  },
  {
   "cell_type": "code",
   "execution_count": null,
   "id": "1da62c64",
   "metadata": {},
   "outputs": [],
   "source": [
    "tab = confusion_matrix(att_test_y,pred)\n",
    "tab"
   ]
  },
  {
   "cell_type": "markdown",
   "id": "ffae1cb5",
   "metadata": {},
   "source": [
    "# In[100]:"
   ]
  },
  {
   "cell_type": "markdown",
   "id": "1281f571",
   "metadata": {},
   "source": [
    "# array([[219,  27],\n",
    "#       [ 32,  16]], dtype=int64)    here we are facing problem of class imbalance \n",
    "# as records for class 0 are more than class 1 , so model giving wrong predictions for class 1 \n",
    "# to overcome this problem we will do oversampling using \"class_wieght = 'balanced'\" and re-run the model"
   ]
  },
  {
   "cell_type": "markdown",
   "id": "de17ae10",
   "metadata": {},
   "source": [
    "# In[101]:"
   ]
  },
  {
   "cell_type": "code",
   "execution_count": null,
   "id": "b41b2cdf",
   "metadata": {},
   "outputs": [],
   "source": [
    "accuracy_score(att_test_y,pred)*100"
   ]
  },
  {
   "cell_type": "markdown",
   "id": "523b72ee",
   "metadata": {},
   "source": [
    "# In[102]:"
   ]
  },
  {
   "cell_type": "code",
   "execution_count": null,
   "id": "83dbc6eb",
   "metadata": {},
   "outputs": [],
   "source": [
    "precision_score(att_test_y,pred)*100"
   ]
  },
  {
   "cell_type": "markdown",
   "id": "a713e74c",
   "metadata": {},
   "source": [
    "# In[103]:"
   ]
  },
  {
   "cell_type": "code",
   "execution_count": null,
   "id": "a080e263",
   "metadata": {},
   "outputs": [],
   "source": [
    "recall_score(att_test_y,pred)*100"
   ]
  },
  {
   "cell_type": "markdown",
   "id": "15bd06d5",
   "metadata": {},
   "source": [
    "# In[104]:"
   ]
  },
  {
   "cell_type": "markdown",
   "id": "00444930",
   "metadata": {},
   "source": [
    "# pricision and recall is low , tune hyperparameter accordingly to increase them"
   ]
  },
  {
   "cell_type": "markdown",
   "id": "6239f8ca",
   "metadata": {},
   "source": [
    "# In[105]:"
   ]
  },
  {
   "cell_type": "code",
   "execution_count": null,
   "id": "46775a51",
   "metadata": {},
   "outputs": [],
   "source": [
    "dt.feature_importances_"
   ]
  },
  {
   "cell_type": "markdown",
   "id": "dfac8e99",
   "metadata": {},
   "source": [
    "# In[106]:"
   ]
  },
  {
   "cell_type": "code",
   "execution_count": null,
   "id": "b4954861",
   "metadata": {},
   "outputs": [],
   "source": [
    "df = pd.DataFrame()\n",
    "df['features'] = att_train_x.columns\n",
    "df['score']= dt.feature_importances_*100\n",
    "df.sort_values('score',ascending=False)"
   ]
  },
  {
   "cell_type": "markdown",
   "id": "bb59d140",
   "metadata": {},
   "source": [
    "# In[ ]:"
   ]
  },
  {
   "cell_type": "markdown",
   "id": "d2a1e1c2",
   "metadata": {},
   "source": [
    "# # Model Building"
   ]
  },
  {
   "cell_type": "markdown",
   "id": "a39317d5",
   "metadata": {},
   "source": [
    "# In[107]:"
   ]
  },
  {
   "cell_type": "code",
   "execution_count": null,
   "id": "e6651571",
   "metadata": {},
   "outputs": [],
   "source": [
    "from sklearn.ensemble import RandomForestClassifier\n",
    "rf = RandomForestClassifier(class_weight='balanced', criterion='entropy',max_depth=7)"
   ]
  },
  {
   "cell_type": "markdown",
   "id": "b3f005b4",
   "metadata": {},
   "source": [
    "# In[108]:"
   ]
  },
  {
   "cell_type": "code",
   "execution_count": null,
   "id": "d3a00451",
   "metadata": {},
   "outputs": [],
   "source": [
    "rf.fit(att_train_x,att_train_y)"
   ]
  },
  {
   "cell_type": "markdown",
   "id": "86c3f156",
   "metadata": {},
   "source": [
    "# In[109]:"
   ]
  },
  {
   "cell_type": "code",
   "execution_count": null,
   "id": "5458389e",
   "metadata": {},
   "outputs": [],
   "source": [
    "pred1 = rf.predict(att_test_x)"
   ]
  },
  {
   "cell_type": "markdown",
   "id": "d0d82f66",
   "metadata": {},
   "source": [
    "# In[110]:"
   ]
  },
  {
   "cell_type": "code",
   "execution_count": null,
   "id": "f2ea03a1",
   "metadata": {},
   "outputs": [],
   "source": [
    "tab1 = confusion_matrix(att_test_y,pred1)\n",
    "tab1"
   ]
  },
  {
   "cell_type": "markdown",
   "id": "f851728c",
   "metadata": {},
   "source": [
    "# In[121]:"
   ]
  },
  {
   "cell_type": "code",
   "execution_count": null,
   "id": "4c9d5a4e",
   "metadata": {},
   "outputs": [],
   "source": [
    "accuracy_score(att_test_y,pred1)*100"
   ]
  },
  {
   "cell_type": "markdown",
   "id": "2d461cc5",
   "metadata": {},
   "source": [
    "# In[112]:"
   ]
  },
  {
   "cell_type": "code",
   "execution_count": null,
   "id": "1dcae672",
   "metadata": {},
   "outputs": [],
   "source": [
    "precision_score(att_test_y,pred1)"
   ]
  },
  {
   "cell_type": "markdown",
   "id": "3ac43bc0",
   "metadata": {},
   "source": [
    "# In[113]:"
   ]
  },
  {
   "cell_type": "code",
   "execution_count": null,
   "id": "d7fd15f3",
   "metadata": {},
   "outputs": [],
   "source": [
    "recall_score(att_test_y,pred1)"
   ]
  },
  {
   "cell_type": "markdown",
   "id": "56568ed1",
   "metadata": {},
   "source": [
    "# In[114]:"
   ]
  },
  {
   "cell_type": "code",
   "execution_count": null,
   "id": "0e379ea7",
   "metadata": {},
   "outputs": [],
   "source": [
    "rf.feature_importances_"
   ]
  },
  {
   "cell_type": "markdown",
   "id": "340bdc3f",
   "metadata": {},
   "source": [
    "# In[115]:"
   ]
  },
  {
   "cell_type": "code",
   "execution_count": null,
   "id": "bf766efe",
   "metadata": {},
   "outputs": [],
   "source": [
    "df1 = pd.DataFrame()\n",
    "df1['features'] = att_train_x.columns\n",
    "df1['score']= rf.feature_importances_*100\n",
    "df1.sort_values('score',ascending=False)"
   ]
  },
  {
   "cell_type": "markdown",
   "id": "9f6caee5",
   "metadata": {},
   "source": [
    "# In[ ]:"
   ]
  },
  {
   "cell_type": "markdown",
   "id": "4896367c",
   "metadata": {},
   "source": [
    "# In[116]:"
   ]
  },
  {
   "cell_type": "code",
   "execution_count": null,
   "id": "249cb456",
   "metadata": {},
   "outputs": [],
   "source": [
    "data = att[['MonthlyIncome','Age','OverTime','DailyRate','YearsWithCurrManager','JobRole','MonthlyIncome','StockOptionLevel','Attrition']]"
   ]
  },
  {
   "cell_type": "markdown",
   "id": "73be387a",
   "metadata": {},
   "source": [
    "# In[117]:"
   ]
  },
  {
   "cell_type": "code",
   "execution_count": null,
   "id": "8487ab4c",
   "metadata": {},
   "outputs": [],
   "source": [
    "data.head()"
   ]
  },
  {
   "cell_type": "markdown",
   "id": "dad68ab1",
   "metadata": {},
   "source": [
    "# In[118]:"
   ]
  },
  {
   "cell_type": "code",
   "execution_count": null,
   "id": "f8e169a5",
   "metadata": {},
   "outputs": [],
   "source": [
    "data_train,data_test = train_test_split(data,test_size=.2)"
   ]
  },
  {
   "cell_type": "markdown",
   "id": "d8c8359f",
   "metadata": {},
   "source": [
    "# In[119]:"
   ]
  },
  {
   "cell_type": "code",
   "execution_count": null,
   "id": "bdc70d81",
   "metadata": {},
   "outputs": [],
   "source": [
    "data_train_x = data_train.drop(['Attrition'],axis =1)\n",
    "data_train_y = data_train['Attrition']\n",
    "data_test_x = data_test.drop(['Attrition'],axis =1)\n",
    "data_test_y = data_test['Attrition']"
   ]
  },
  {
   "cell_type": "markdown",
   "id": "e810a07a",
   "metadata": {},
   "source": [
    "# In[120]:"
   ]
  },
  {
   "cell_type": "code",
   "execution_count": null,
   "id": "c2f56a86",
   "metadata": {},
   "outputs": [],
   "source": [
    "dt.fit(data_train_x,data_train_y)"
   ]
  },
  {
   "cell_type": "markdown",
   "id": "79edc1c5",
   "metadata": {},
   "source": [
    "# In[48]:"
   ]
  },
  {
   "cell_type": "code",
   "execution_count": null,
   "id": "c5c6aeac",
   "metadata": {},
   "outputs": [],
   "source": [
    "pred2 = dt.predict(data_test_x)"
   ]
  },
  {
   "cell_type": "markdown",
   "id": "966c95dd",
   "metadata": {},
   "source": [
    "# In[49]:"
   ]
  },
  {
   "cell_type": "code",
   "execution_count": null,
   "id": "8b3cb2b7",
   "metadata": {},
   "outputs": [],
   "source": [
    "tab2 = confusion_matrix(data_test_y,pred2)\n",
    "tab2"
   ]
  },
  {
   "cell_type": "markdown",
   "id": "5e7ade91",
   "metadata": {},
   "source": [
    "# In[50]:"
   ]
  },
  {
   "cell_type": "code",
   "execution_count": null,
   "id": "43e47bb8",
   "metadata": {},
   "outputs": [],
   "source": [
    "accuracy_score(data_test_y,pred2)"
   ]
  },
  {
   "cell_type": "markdown",
   "id": "226ae39b",
   "metadata": {},
   "source": [
    "# In[51]:"
   ]
  },
  {
   "cell_type": "code",
   "execution_count": null,
   "id": "65cd7a82",
   "metadata": {},
   "outputs": [],
   "source": [
    "precision_score(data_test_y,pred2)"
   ]
  },
  {
   "cell_type": "markdown",
   "id": "361c75e8",
   "metadata": {},
   "source": [
    "# In[52]:"
   ]
  },
  {
   "cell_type": "code",
   "execution_count": null,
   "id": "d4aa568c",
   "metadata": {},
   "outputs": [],
   "source": [
    "recall_score(data_test_y,pred2)"
   ]
  },
  {
   "cell_type": "markdown",
   "id": "e0947564",
   "metadata": {},
   "source": [
    "# In[53]:"
   ]
  },
  {
   "cell_type": "markdown",
   "id": "f30457e0",
   "metadata": {},
   "source": [
    "#### did feature selection using Decision tree and builded a model"
   ]
  },
  {
   "cell_type": "markdown",
   "id": "810a7783",
   "metadata": {},
   "source": [
    "# In[54]:"
   ]
  },
  {
   "cell_type": "markdown",
   "id": "028833e5",
   "metadata": {},
   "source": [
    "#1)Identify the Key factors influencing attrition behavior\n",
    "data.columns"
   ]
  },
  {
   "cell_type": "markdown",
   "id": "56ba9536",
   "metadata": {},
   "source": [
    "# In[ ]:"
   ]
  },
  {
   "cell_type": "markdown",
   "id": "d48e92c5",
   "metadata": {},
   "source": [
    "# In[ ]:"
   ]
  },
  {
   "cell_type": "markdown",
   "id": "6815d6eb",
   "metadata": {},
   "source": [
    "# In[ ]:"
   ]
  },
  {
   "cell_type": "markdown",
   "id": "459c891e",
   "metadata": {},
   "source": [
    "# In[ ]:"
   ]
  },
  {
   "cell_type": "markdown",
   "id": "097064a0",
   "metadata": {},
   "source": [
    "# In[123]:"
   ]
  },
  {
   "cell_type": "code",
   "execution_count": null,
   "id": "d535da93",
   "metadata": {},
   "outputs": [],
   "source": [
    "df = pd.read_csv(r'G:\\Data Scientist_ Recruitment_April 2023\\Employee Attrition.csv')\n",
    "df.head()"
   ]
  },
  {
   "cell_type": "markdown",
   "id": "442dd274",
   "metadata": {},
   "source": [
    "# In[124]:"
   ]
  },
  {
   "cell_type": "code",
   "execution_count": null,
   "id": "f9f05076",
   "metadata": {},
   "outputs": [],
   "source": [
    "df.groupby('Attrition')['Attrition'].agg('count').plot.bar()"
   ]
  },
  {
   "cell_type": "markdown",
   "id": "adfcfd49",
   "metadata": {},
   "source": [
    "# In[125]:"
   ]
  },
  {
   "cell_type": "code",
   "execution_count": null,
   "id": "77fc8b7c",
   "metadata": {},
   "outputs": [],
   "source": [
    "df.Attrition_numeric = df.Attrition\n",
    "df.loc[df.Attrition == 'Yes','Attrition_numeric'] = 1\n",
    "df.loc[df.Attrition == 'No','Attrition_numeric'] = 0"
   ]
  },
  {
   "cell_type": "code",
   "execution_count": null,
   "id": "b0b8e3f4",
   "metadata": {},
   "outputs": [],
   "source": [
    "plt.figure(figsize=(12,8))\n",
    "sns.barplot(x = 'Gender', y = 'Attrition_numeric', data=df)"
   ]
  },
  {
   "cell_type": "markdown",
   "id": "1f897f77",
   "metadata": {},
   "source": [
    "# In[126]:"
   ]
  },
  {
   "cell_type": "code",
   "execution_count": null,
   "id": "0392b8f4",
   "metadata": {},
   "outputs": [],
   "source": [
    "plt.figure(figsize=(12,8))\n",
    "sns.barplot(x = 'EducationField', y = 'Attrition_numeric', data=df)"
   ]
  },
  {
   "cell_type": "markdown",
   "id": "efb5b0e0",
   "metadata": {},
   "source": [
    "# In[127]:"
   ]
  },
  {
   "cell_type": "code",
   "execution_count": null,
   "id": "4a80902a",
   "metadata": {},
   "outputs": [],
   "source": [
    "plt.figure(figsize=(12,8))\n",
    "sns.barplot(x = 'OverTime', y = 'Attrition_numeric', data=df)"
   ]
  },
  {
   "cell_type": "markdown",
   "id": "f26918e5",
   "metadata": {},
   "source": [
    "# In[128]:"
   ]
  },
  {
   "cell_type": "code",
   "execution_count": null,
   "id": "ec74a2dc",
   "metadata": {},
   "outputs": [],
   "source": [
    "plt.figure(figsize=(12,8))\n",
    "sns.barplot(x = 'JobInvolvement', y = 'Attrition_numeric', data=df)"
   ]
  },
  {
   "cell_type": "markdown",
   "id": "b7a3f893",
   "metadata": {},
   "source": [
    "# In[ ]:"
   ]
  },
  {
   "cell_type": "markdown",
   "id": "bd010932",
   "metadata": {},
   "source": [
    "# In[ ]:"
   ]
  },
  {
   "cell_type": "markdown",
   "id": "6049d732",
   "metadata": {},
   "source": [
    "# In[ ]:"
   ]
  }
 ],
 "metadata": {},
 "nbformat": 4,
 "nbformat_minor": 5
}
